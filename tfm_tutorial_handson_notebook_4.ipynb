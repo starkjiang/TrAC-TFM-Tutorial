{
 "cells": [
  {
   "attachments": {},
   "cell_type": "markdown",
   "id": "7e19baaa-be03-4a82-a08c-9205106fc316",
   "metadata": {},
   "source": [
    "# TFM Tutorial Notebook 4: Final Assessment for Tabular Foundation Models for Time Series\n",
    "\n",
    "In this tutorial, we will do a coding exercise by leveraging TabPFN v2 for the crop yield prediction task. We just use its zero-shot prediction capability for this task without any fine-tuning. Please make sure you have installed TabPFN already. If not yet, use the following to install\n",
    "\n",
    "``!pip install tabpfn``\n",
    "\n",
    "In this coding exercise, you are given a crop yield dataset from Kaggle. Please download from my [Google Drive](https://drive.google.com/file/d/1pJPOnNOVOLXfyu8PYOwtmfWYtoyQEtMS/view?usp=sharing) \n",
    "\n",
    "The target is **\"crop yield\"**, while there are several covariates, including **soil humidy, air temperature, air humidity, pressure, wind speed and wind gusts**. You are now required to complete the following two tasks:\n",
    "\n",
    "1. Given varying sizes of datasets (50, 100, 500, 1000), fit a TabPFN with split ratio being 0.2, and calculate the Root Mean Squared Error and R^2 values. Plot them and discuss the results. For this task, you use all the covariates. Please also use a couple ML methods for comparison.\n",
    "2. To investigate how the covariates impact the target, please run experiments with different sets of covariates with a fixed size (e.g., 1000) and report the results (RMSE and R^2). Try to find out which covariate has the highest impact.\n",
    "3. Show the results either with tables or plots.\n"
   ]
  },
  {
   "cell_type": "code",
   "execution_count": 1,
   "id": "135cbab5-2b18-49be-ab65-02f94f1745dc",
   "metadata": {},
   "outputs": [],
   "source": [
    "import matplotlib.pyplot as plt\n",
    "import numpy as np\n",
    "import pandas as pd\n",
    "from sklearn.model_selection import train_test_split\n",
    "from sklearn.metrics import root_mean_squared_error, r2_score\n",
    "from tabpfn import TabPFNRegressor"
   ]
  },
  {
   "cell_type": "markdown",
   "id": "37166ead-8b7e-451d-9ea4-150e61ce9e1f",
   "metadata": {},
   "source": [
    "After downloading the dataset, please specify the local path."
   ]
  },
  {
   "cell_type": "code",
   "execution_count": null,
   "id": "308ebc44-7567-4d05-99c1-48b7578bccd2",
   "metadata": {},
   "outputs": [],
   "source": [
    "csv_path = \"your_local_path\"\n",
    "df = pd.read_csv(csv_path)\n",
    "df.drop(columns=['Unnamed: 0'], inplace=True)\n",
    "print(\"Loaded CSV shape:\", df.shape)\n",
    "print(\"Columns:\", df.columns.tolist())"
   ]
  },
  {
   "cell_type": "markdown",
   "id": "14b70118-9d0a-4183-afe4-806808d5c28c",
   "metadata": {},
   "source": [
    "Define the target and features and conduct train/test splits."
   ]
  },
  {
   "cell_type": "code",
   "execution_count": null,
   "id": "d82c1192-7b00-4023-8ec5-1469ea88e590",
   "metadata": {},
   "outputs": [],
   "source": [
    "target_col = \"Crop Yield\"\n",
    "features = [\n",
    "    'Soil humidity 1',\n",
    "    'Air temperature (C)',\n",
    "    'Air humidity (%)',\n",
    "    'Pressure (KPa)',\n",
    "    'Wind speed (Km/h)',\n",
    "    'Wind gust (Km/h)'\n",
    "]\n",
    "length = 1000 # If larger than 1000, you need GPU.\n",
    "bare_mini = 10\n",
    "horizon = 1 # We use current step to predict the next step.\n",
    "df_sub = df[features + [target_col]].copy()[:length]\n",
    "# Fill missing\n",
    "for c in df_sub.columns:\n",
    "    if df_sub[c].dtype.kind in 'iufc':\n",
    "        df_sub[c] = df_sub[c].fillna(df_sub[c].median())\n",
    "    else:\n",
    "        df_sub[c] = df_sub[c].fillna('missing').astype(str)\n",
    "if df_sub.shape[0] < bare_mini:\n",
    "    print(\"Warning: very few rows for the crop; TabPFN works best on small-to-medium datasets but needs enough examples.\")\n",
    "X = df_sub[features][:-horizon]\n",
    "y = df_sub[target_col][horizon:]\n",
    "X_train, X_test, y_train, y_test = train_test_split(\n",
    "    X,\n",
    "    y,\n",
    "    test_size=0.2,\n",
    "    random_state=42\n",
    ")"
   ]
  },
  {
   "cell_type": "markdown",
   "id": "d94ac0ae-3426-48a2-923f-7799ede7346e",
   "metadata": {},
   "source": [
    "## TODO: Train/Test the TabPFN model and Show the Results"
   ]
  },
  {
   "cell_type": "code",
   "execution_count": null,
   "id": "21ee0a09-4c13-4f1d-8d8e-4cff0f0865fe",
   "metadata": {},
   "outputs": [],
   "source": [
    "model = TabPFNRegressor()\n",
    "model.fit(X_train, y_train)\n",
    "y_pred = model.predict(X_test)\n",
    "print(\n",
    "    \"Maize RMSE:\", root_mean_squared_error(y_test, y_pred),\n",
    "    \"R2:\", r2_score(y_test, y_pred)\n",
    ")\n",
    "\n",
    "# Plot ground truth & prediction.\n",
    "# Ground truth from test split\n",
    "plt.plot(\n",
    "    range(len(y_test)),\n",
    "    y_test,\n",
    "    label='Ground Truth (Test)',\n",
    ")\n",
    "\n",
    "# Predictions\n",
    "plt.plot(\n",
    "    range(len(y_pred)),\n",
    "    y_pred,\n",
    "    label='Predicted (TabPFN)',\n",
    "    color='red',\n",
    ")\n",
    "\n",
    "plt.title(f\"Crop Yield Prediction for Crop Using TabPFN\")\n",
    "plt.xlabel(\"Sample\")\n",
    "plt.ylabel(\"Yield (tons/ha)\")\n",
    "plt.grid(True)\n",
    "plt.legend()\n",
    "plt.tight_layout()\n",
    "plt.show()"
   ]
  }
 ],
 "metadata": {
  "kernelspec": {
   "display_name": "Python 3 (ipykernel)",
   "language": "python",
   "name": "python3"
  },
  "language_info": {
   "codemirror_mode": {
    "name": "ipython",
    "version": 3
   },
   "file_extension": ".py",
   "mimetype": "text/x-python",
   "name": "python",
   "nbconvert_exporter": "python",
   "pygments_lexer": "ipython3",
   "version": "3.11.13"
  }
 },
 "nbformat": 4,
 "nbformat_minor": 5
}
